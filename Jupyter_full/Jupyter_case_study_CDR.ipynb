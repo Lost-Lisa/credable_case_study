{
 "cells": [
  {
   "cell_type": "code",
   "execution_count": null,
   "metadata": {},
   "outputs": [],
   "source": [
    "import qrcode\n",
    "# example data\n",
    "data = \"25635265,1PM 1 Jan,6PM 6 Jan,Air,BlueDart,856.50,15245254,Paid\"\n",
    "# output file name\n",
    "filename = \"site.png\"\n",
    "# generate qr code\n",
    "img = qrcode.make(data)\n",
    "# save img to a file\n",
    "img.save(filename)"
   ]
  },
  {
   "cell_type": "code",
   "execution_count": null,
   "metadata": {},
   "outputs": [],
   "source": [
    "import qrcode\n",
    "import numpy as np\n",
    "# data to encode\n",
    "data = \"https://www.thepythoncode.com\"\n",
    "# instantiate QRCode object\n",
    "qr = qrcode.QRCode(version=1, box_size=10, border=4)\n",
    "# add data to the QR code\n",
    "qr.add_data(data)\n",
    "# compile the data into a QR code array\n",
    "qr.make()\n",
    "# print the image shape\n",
    "print(\"The shape of the QR image:\", np.array(qr.get_matrix()).shape)\n",
    "# transfer the array into an actual image\n",
    "img = qr.make_image(fill_color=\"white\", back_color=\"black\")\n",
    "# save it to a file\n",
    "img.save(\"site_inversed.png\")"
   ]
  },
  {
   "cell_type": "code",
   "execution_count": 1,
   "metadata": {},
   "outputs": [
    {
     "name": "stderr",
     "output_type": "stream",
     "text": [
      "<ipython-input-1-277da2f58362>:16: DeprecationWarning: an integer is required (got type numpy.float32).  Implicit conversion to integers using __int__ is deprecated, and may be removed in a future version of Python.\n",
      "  cv2.line(img, tuple(bbox[i][0]), tuple(bbox[(i+1) % len(bbox)][0]), color=(255, 0, 0), thickness=2)\n"
     ]
    },
    {
     "name": "stdout",
     "output_type": "stream",
     "text": [
      "[+] QR Code detected, data: 25635265,1PM 1 Jan,6PM 6 Jan,Air,BlueDart,856.50,15245254,Paid\n",
      "25635265,1PM 1 Jan,6PM 6 Jan,Air,BlueDart,856.50,15245254,Paid\n"
     ]
    }
   ],
   "source": [
    "import cv2\n",
    "# initalize the cam\n",
    "cap = cv2.VideoCapture(0)\n",
    "# initialize the cv2 QRCode detector\n",
    "detector = cv2.QRCodeDetector()\n",
    "temp_data = []\n",
    "while True:\n",
    "    _, img = cap.read()\n",
    "    # detect and decode\n",
    "    data, bbox, _ = detector.detectAndDecode(img)\n",
    "    # check if there is a QRCode in the image\n",
    "    if bbox is not None:\n",
    "        # display the image with lines\n",
    "        for i in range(len(bbox)):\n",
    "            # draw all lines\n",
    "            cv2.line(img, tuple(bbox[i][0]), tuple(bbox[(i+1) % len(bbox)][0]), color=(255, 0, 0), thickness=2)\n",
    "#         if data:\n",
    "#             print(\"[+] QR Code detected, data:\", data)\n",
    "        \n",
    "#         if data ==\"1\":\n",
    "#             j = int(input())\n",
    "        if \",\" in data:\n",
    "#             flag = 1\n",
    "            temp_data = data\n",
    "            break\n",
    "            \n",
    "                  \n",
    "    # display the result\n",
    "    cv2.imshow(\"img\", img)\n",
    "    cv2.waitKey(1)\n",
    "#     if \",\" in temp_data:\n",
    "#     if cv2.waitKey(1) == ord(\"q\"):\n",
    "#         break\n",
    "cap.release()\n",
    "cv2.destroyAllWindows()\n",
    "print(temp_data)"
   ]
  },
  {
   "cell_type": "code",
   "execution_count": null,
   "metadata": {},
   "outputs": [],
   "source": [
    "import csv\n",
    "\n",
    "with open(r'C:\\\\Users\\\\avina\\\\OneDrive - Amity University\\\\My_1TB_drive\\\\Placement_work\\\\credable\\\\data_files.txt') as csv_file:\n",
    "    csv_reader = csv.reader(csv_file, delimiter=',')\n",
    "    line_count = 0\n",
    "    \n",
    "    for row in csv_reader:\n",
    "        l = len(row)\n",
    "        print(l)\n",
    "        if line_count == 0:\n",
    "            print(f'Column names are {\", \".join(row)}')\n",
    "            line_count += 1\n",
    "        else:\n",
    "#             print(f'\\t{row[0]} works in the {row[1]} department, and was born in {row[2]}.')\n",
    "            for i in range(0,l):\n",
    "                print(f'\\t{row[i]}\\t')\n",
    "            line_count += 1\n",
    "    print(f'Processed {line_count} lines.')"
   ]
  }
 ],
 "metadata": {
  "kernelspec": {
   "display_name": "Python 3",
   "language": "python",
   "name": "python3"
  },
  "language_info": {
   "codemirror_mode": {
    "name": "ipython",
    "version": 3
   },
   "file_extension": ".py",
   "mimetype": "text/x-python",
   "name": "python",
   "nbconvert_exporter": "python",
   "pygments_lexer": "ipython3",
   "version": "3.8.3"
  }
 },
 "nbformat": 4,
 "nbformat_minor": 4
}
